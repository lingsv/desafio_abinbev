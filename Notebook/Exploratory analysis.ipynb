{
 "cells": [
  {
   "cell_type": "code",
   "execution_count": 27,
   "id": "389c018e-af38-4852-86bd-ab5881f124c6",
   "metadata": {},
   "outputs": [],
   "source": [
    "import pandas as pd\n",
    "import requests\n",
    "from prefect.filesystems import LocalFileSystem"
   ]
  },
  {
   "cell_type": "code",
   "execution_count": 28,
   "id": "80159abf-7d0b-459f-a54b-11d5b91e284a",
   "metadata": {},
   "outputs": [],
   "source": [
    "url = \"https://api.openbrewerydb.org/v1/breweries\""
   ]
  },
  {
   "cell_type": "code",
   "execution_count": 39,
   "id": "9d89ea2b-122f-4a06-a65d-3892c33a1fb0",
   "metadata": {},
   "outputs": [],
   "source": [
    "def get_api_data(url: str) -> str:\n",
    "    \"\"\"Extracts the data from the specific url.\n",
    "\n",
    "    Args:\n",
    "        url (str): URL with BRT data.\n",
    "\n",
    "    Returns:\n",
    "        str: Request response in JSON format.\n",
    "    \"\"\"\n",
    "    dados_api = []\n",
    "\n",
    "    for i in range(8500):\n",
    "\n",
    "        try:\n",
    "            response = requests.get(url)\n",
    "            response.raise_for_status()\n",
    "            json_data = response.json()\n",
    "            dados_api.extend(json_data)\n",
    "            \n",
    "\n",
    "        except requests.exceptions.RequestException as error:\n",
    "            raise error\n",
    "    print('Data extracted with success!')\n",
    "\n",
    "    return dados_api\n"
   ]
  },
  {
   "cell_type": "code",
   "execution_count": null,
   "id": "326c3c23-a031-497b-bc3e-3192d4f5a792",
   "metadata": {},
   "outputs": [],
   "source": [
    "def process_data(data, path) -> Parquet:\n",
    "    data_dict = pd.DataFrame(data)\n",
    "    data_dict.to_parquet()\n",
    "\n",
    "    log('Data has been converted on a dataframe.')\n",
    "\n",
    "    return data_dict"
   ]
  }
 ],
 "metadata": {
  "kernelspec": {
   "display_name": "Python 3 (ipykernel)",
   "language": "python",
   "name": "python3"
  },
  "language_info": {
   "codemirror_mode": {
    "name": "ipython",
    "version": 3
   },
   "file_extension": ".py",
   "mimetype": "text/x-python",
   "name": "python",
   "nbconvert_exporter": "python",
   "pygments_lexer": "ipython3",
   "version": "3.9.19"
  }
 },
 "nbformat": 4,
 "nbformat_minor": 5
}
